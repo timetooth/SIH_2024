{
 "cells": [
  {
   "cell_type": "code",
   "execution_count": 11,
   "metadata": {},
   "outputs": [
    {
     "name": "stdout",
     "output_type": "stream",
     "text": [
      "[{\"id\":1,\"name\":\"kay\",\"email\":\"singla@gmail.com\",\"password\":\"Lili@2021\",\"created_at\":\"2024-08-24T11:19:18.773534Z\",\"updated_at\":\"2024-08-24T11:19:18.773578Z\"},{\"id\":2,\"name\":\"keshav\",\"email\":\"studytime3214@gmail.com\",\"password\":\"12345678\",\"created_at\":\"2024-08-24T11:19:29.952380Z\",\"updated_at\":\"2024-08-24T11:19:29.952412Z\"},{\"id\":3,\"name\":\"singla\",\"email\":\"kay@gmail.com\",\"password\":\"qwerty\",\"created_at\":\"2024-08-24T11:19:45.622420Z\",\"updated_at\":\"2024-08-24T11:19:45.622471Z\"},{\"id\":4,\"name\":\"niks\",\"email\":\"singh@gmail.com\",\"password\":\"qwerty\",\"created_at\":\"2024-08-24T11:20:25.074677Z\",\"updated_at\":\"2024-08-24T11:20:25.074709Z\"}]\n"
     ]
    }
   ],
   "source": [
    "import requests\n",
    "\n",
    "x = requests.get('http://127.0.0.1:8000/api/u')\n",
    "\n",
    "print(x.text)"
   ]
  },
  {
   "cell_type": "code",
   "execution_count": 12,
   "metadata": {},
   "outputs": [
    {
     "name": "stdout",
     "output_type": "stream",
     "text": [
      "[{'id': 1, 'name': 'kay', 'email': 'singla@gmail.com', 'password': 'Lili@2021', 'created_at': '2024-08-24T11:19:18.773534Z', 'updated_at': '2024-08-24T11:19:18.773578Z'}, {'id': 2, 'name': 'keshav', 'email': 'studytime3214@gmail.com', 'password': '12345678', 'created_at': '2024-08-24T11:19:29.952380Z', 'updated_at': '2024-08-24T11:19:29.952412Z'}, {'id': 3, 'name': 'singla', 'email': 'kay@gmail.com', 'password': 'qwerty', 'created_at': '2024-08-24T11:19:45.622420Z', 'updated_at': '2024-08-24T11:19:45.622471Z'}, {'id': 4, 'name': 'niks', 'email': 'singh@gmail.com', 'password': 'qwerty', 'created_at': '2024-08-24T11:20:25.074677Z', 'updated_at': '2024-08-24T11:20:25.074709Z'}]\n",
      "<class 'list'>\n",
      "{'id': 1, 'name': 'kay', 'email': 'singla@gmail.com', 'password': 'Lili@2021', 'created_at': '2024-08-24T11:19:18.773534Z', 'updated_at': '2024-08-24T11:19:18.773578Z'}\n",
      "<class 'dict'>\n"
     ]
    }
   ],
   "source": [
    "import json\n",
    "\n",
    "res = json.loads(x.text)\n",
    "print(res)\n",
    "print(type(res))\n",
    "if len(res):\n",
    "    print(res[0])\n",
    "    print(type(res[0]))"
   ]
  }
 ],
 "metadata": {
  "kernelspec": {
   "display_name": "venv",
   "language": "python",
   "name": "python3"
  },
  "language_info": {
   "codemirror_mode": {
    "name": "ipython",
    "version": 3
   },
   "file_extension": ".py",
   "mimetype": "text/x-python",
   "name": "python",
   "nbconvert_exporter": "python",
   "pygments_lexer": "ipython3",
   "version": "3.11.4"
  }
 },
 "nbformat": 4,
 "nbformat_minor": 2
}
