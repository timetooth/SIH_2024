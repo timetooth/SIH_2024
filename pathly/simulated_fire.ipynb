{
 "cells": [
  {
   "cell_type": "code",
   "execution_count": 14,
   "metadata": {},
   "outputs": [],
   "source": [
    "import numpy as np\n",
    "import random\n",
    "import matplotlib.pyplot as plt"
   ]
  },
  {
   "cell_type": "code",
   "execution_count": 15,
   "metadata": {},
   "outputs": [],
   "source": [
    "grid = np.load('./np_map.npy')"
   ]
  },
  {
   "cell_type": "code",
   "execution_count": 16,
   "metadata": {},
   "outputs": [],
   "source": [
    "max_tti = 500\n",
    "def initialize_grid(ignite_cell, shape=(15,26)):\n",
    "    start_x, start_y = ignite_cell\n",
    "    grid = np.zeros(shape)\n",
    "    # not-burning-0, burning-1, burnt-2, protected-3, barrier-4 for future implementation\n",
    "    tti = np.random.randint(1, max_tti, size=shape)\n",
    "    grid[start_x][start_y] = 1 # set start point on fire\n",
    "    return grid, tti\n",
    "\n",
    "def is_valid(grid, coordinates):\n",
    "    x, y = coordinates[0], coordinates[1]\n",
    "    if x < 0 or x >= grid.shape[0] or y < 0 or y >= grid.shape[1]:\n",
    "        return False\n",
    "    return True\n",
    "\n",
    "def neighbour_factor(grid, coordinates):\n",
    "    x, y = coordinates[0], coordinates[1]\n",
    "    nearest_active = 0\n",
    "    farther_active = 0\n",
    "    for i in range(-2, 3):\n",
    "        for j in range(-2, 3):\n",
    "            if is_valid(grid, (x+i, y+j)) and grid[x+i][y+j] == 1:\n",
    "                if abs(i) < 2 and abs(j) < 2: nearest_active += 1\n",
    "                else: farther_active += 1\n",
    "    return (nearest_active, farther_active)\n",
    "\n",
    "def spread_probability(grid, coordinates, tti, neighbour_factors, alpha=1, beta=0.5):\n",
    "    '''\n",
    "    Calculates the probability of the given cell catching fire\n",
    "    alpha: hyperparameter for final scaling\n",
    "    beta: hyperparameter, weight for farther active cells\n",
    "    equation => p = 1 - e^(-alpha*(1 + near + beta*far)*tti)\n",
    "    '''\n",
    "    x, y = coordinates\n",
    "    near, far = neighbour_factors\n",
    "    # standardize and scale the near and far neighbours\n",
    "    near = near/8\n",
    "    far = beta*(far/16)\n",
    "    tti_val = tti[x][y]/max_tti\n",
    "    prob = 1 - np.exp(-alpha*(1 + near + far)*tti_val)\n",
    "    return prob"
   ]
  },
  {
   "cell_type": "code",
   "execution_count": 17,
   "metadata": {},
   "outputs": [],
   "source": [
    "def update_grid(grid, tti, alpha=1, beta=0.5, gamma=0.1, warn_threshhold=0.9):\n",
    "    updated = grid.copy()\n",
    "    rows, cols = grid.shape\n",
    "    for i in range(rows):\n",
    "        for j in range(cols):\n",
    "            if grid[i][j] == 1:\n",
    "                for dx in range(-1, 2):\n",
    "                    for dy in range(-1, 2):\n",
    "                        child_x, child_y = i+dx, j+dy\n",
    "                        if is_valid(grid, (child_x, child_y)) and grid[child_x][child_y] == 0:\n",
    "                            neighbour_factors = neighbour_factor(grid, (child_x, child_y))\n",
    "                            prob = spread_probability(grid, (child_x, child_y), tti, neighbour_factors, alpha, beta)\n",
    "                            if random.random() < gamma*prob:\n",
    "                                updated[child_x][child_y] = 1\n",
    "                            elif prob>warn_threshhold:\n",
    "                                updated[child_x][child_y] = 2\n",
    "\n",
    "    return updated"
   ]
  },
  {
   "cell_type": "code",
   "execution_count": 18,
   "metadata": {},
   "outputs": [],
   "source": [
    "def visualize_grid(grid, step):\n",
    "    \"\"\" Visualize the grid using Matplotlib. \"\"\"\n",
    "    plt.imshow(grid, cmap='viridis', interpolation='nearest', vmin=0, vmax=2)\n",
    "    plt.title(f'Cellular Growth Simulation - Step {step}')\n",
    "    plt.colorbar()\n",
    "    plt.pause(0.1)\n",
    "\n",
    "def simulate_fire(ignite_cell, shape, alpha=1, beta=0.5, gamma=0.1, steps=50, warn_threshhold=0.9):\n",
    "    ret = []\n",
    "    grid, tti = initialize_grid(ignite_cell, shape=shape)\n",
    "    visualize_grid(grid, 0)\n",
    "    for step in range(1, steps):\n",
    "        grid = update_grid(grid, tti, alpha, beta, gamma, warn_threshhold)\n",
    "        # visualize_grid(grid, step)\n",
    "        ret.append(grid.copy())\n",
    "    return ret"
   ]
  },
  {
   "cell_type": "code",
   "execution_count": 19,
   "metadata": {},
   "outputs": [
    {
     "data": {
      "image/png": "[encoded data removed]",
      "text/plain": [
       "<Figure size 640x480 with 2 Axes>"
      ]
     },
     "metadata": {},
     "output_type": "display_data"
    }
   ],
   "source": [
    "width, height = 50, 50\n",
    "num_steps = 50\n",
    "\n",
    "final = simulate_fire(ignite_cell=(25,25),shape=(width, height), gamma=0.5, steps=num_steps, warn_threshhold=0.8)\n",
    "final = np.array(final)\n",
    "import json\n",
    "with open('simualate.json', 'w') as f:\n",
    "    json.dump(final.tolist(), f)"
   ]
  }
 ],
 "metadata": {
  "kernelspec": {
   "display_name": "Python 3",
   "language": "python",
   "name": "python3"
  },
  "language_info": {
   "codemirror_mode": {
    "name": "ipython",
    "version": 3
   },
   "file_extension": ".py",
   "mimetype": "text/x-python",
   "name": "python",
   "nbconvert_exporter": "python",
   "pygments_lexer": "ipython3",
   "version": "3.11.1"
  }
 },
 "nbformat": 4,
 "nbformat_minor": 2
}
